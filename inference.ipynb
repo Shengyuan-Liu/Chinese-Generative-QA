{
 "cells": [
  {
   "cell_type": "code",
   "execution_count": 1,
   "id": "4dadf256",
   "metadata": {},
   "outputs": [],
   "source": [
    "import torch\n",
    "from transformers import AutoTokenizer, AutoModelForSeq2SeqLM"
   ]
  },
  {
   "cell_type": "code",
   "execution_count": 2,
   "id": "33892de5",
   "metadata": {},
   "outputs": [],
   "source": [
    "def load_model(model_dir):\n",
    "    device = \"cuda\" if torch.cuda.is_available() else \"cpu\"\n",
    "    tokenizer = AutoTokenizer.from_pretrained(model_dir, use_fast=False)\n",
    "    model = AutoModelForSeq2SeqLM.from_pretrained(model_dir).to(device)\n",
    "    model.eval()\n",
    "    return tokenizer, model, device"
   ]
  },
  {
   "cell_type": "code",
   "execution_count": 3,
   "id": "deb72821",
   "metadata": {},
   "outputs": [],
   "source": [
    "def generate_answer(tokenizer, model, device, question, context, max_input_len=512, max_target_len=64, num_beams=5):\n",
    "    \n",
    "    prompt = f\"question: {question}  context: {context}\"\n",
    "    inputs = tokenizer(\n",
    "        prompt,\n",
    "        return_tensors=\"pt\",\n",
    "        truncation=True,\n",
    "        padding=\"longest\",\n",
    "        max_length=max_input_len,\n",
    "    ).to(device)\n",
    "\n",
    "    outputs = model.generate(\n",
    "        inputs.input_ids,\n",
    "        attention_mask=inputs.attention_mask,\n",
    "        max_length=max_target_len,\n",
    "        num_beams=num_beams,\n",
    "        early_stopping=True,\n",
    "    )\n",
    "    return tokenizer.decode(outputs[0], skip_special_tokens=True)"
   ]
  },
  {
   "cell_type": "code",
   "execution_count": 6,
   "id": "6f5cb311",
   "metadata": {},
   "outputs": [
    {
     "name": "stdout",
     "output_type": "stream",
     "text": [
      "生成答案： 王二\n"
     ]
    }
   ],
   "source": [
    "model_dir = \"./final_model\"\n",
    "tokenizer, model, device = load_model(model_dir)\n",
    "\n",
    "ctx = \"我是李明，我的爸爸是李安，我的妈妈是王二。\"\n",
    "q   = \"李安的老婆是谁？\"\n",
    "ans = generate_answer(tokenizer, model, device, q, ctx)\n",
    "print(\"生成答案：\", ans)"
   ]
  },
  {
   "cell_type": "code",
   "execution_count": null,
   "id": "8d209570",
   "metadata": {},
   "outputs": [],
   "source": []
  }
 ],
 "metadata": {
  "kernelspec": {
   "display_name": "base",
   "language": "python",
   "name": "python3"
  },
  "language_info": {
   "codemirror_mode": {
    "name": "ipython",
    "version": 3
   },
   "file_extension": ".py",
   "mimetype": "text/x-python",
   "name": "python",
   "nbconvert_exporter": "python",
   "pygments_lexer": "ipython3",
   "version": "3.12.3"
  }
 },
 "nbformat": 4,
 "nbformat_minor": 5
}
